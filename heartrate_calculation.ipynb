{
  "nbformat": 4,
  "nbformat_minor": 0,
  "metadata": {
    "colab": {
      "name": "heartrate calculation",
      "provenance": [],
      "authorship_tag": "ABX9TyOSL/H7e4CtBzNZUauMVErL",
      "include_colab_link": true
    },
    "kernelspec": {
      "name": "python3",
      "display_name": "Python 3"
    },
    "language_info": {
      "name": "python"
    }
  },
  "cells": [
    {
      "cell_type": "markdown",
      "metadata": {
        "id": "view-in-github",
        "colab_type": "text"
      },
      "source": [
        "<a href=\"https://colab.research.google.com/github/Prithvij2004/Health_Calculation/blob/main/heartrate_calculation.ipynb\" target=\"_parent\"><img src=\"https://colab.research.google.com/assets/colab-badge.svg\" alt=\"Open In Colab\"/></a>"
      ]
    },
    {
      "cell_type": "code",
      "execution_count": 3,
      "metadata": {
        "colab": {
          "base_uri": "https://localhost:8080/"
        },
        "id": "WF70z7bSlUoW",
        "outputId": "83be6ef9-b37d-455c-ce94-49531b560699"
      },
      "outputs": [
        {
          "output_type": "stream",
          "name": "stdout",
          "text": [
            "Looking in indexes: https://pypi.org/simple, https://us-python.pkg.dev/colab-wheels/public/simple/\n",
            "Requirement already satisfied: kaggle in /usr/local/lib/python3.7/dist-packages (1.5.12)\n",
            "Requirement already satisfied: six>=1.10 in /usr/local/lib/python3.7/dist-packages (from kaggle) (1.15.0)\n",
            "Requirement already satisfied: tqdm in /usr/local/lib/python3.7/dist-packages (from kaggle) (4.64.0)\n",
            "Requirement already satisfied: requests in /usr/local/lib/python3.7/dist-packages (from kaggle) (2.23.0)\n",
            "Requirement already satisfied: python-dateutil in /usr/local/lib/python3.7/dist-packages (from kaggle) (2.8.2)\n",
            "Requirement already satisfied: certifi in /usr/local/lib/python3.7/dist-packages (from kaggle) (2022.5.18.1)\n",
            "Requirement already satisfied: urllib3 in /usr/local/lib/python3.7/dist-packages (from kaggle) (1.24.3)\n",
            "Requirement already satisfied: python-slugify in /usr/local/lib/python3.7/dist-packages (from kaggle) (6.1.2)\n",
            "Requirement already satisfied: text-unidecode>=1.3 in /usr/local/lib/python3.7/dist-packages (from python-slugify->kaggle) (1.3)\n",
            "Requirement already satisfied: idna<3,>=2.5 in /usr/local/lib/python3.7/dist-packages (from requests->kaggle) (2.10)\n",
            "Requirement already satisfied: chardet<4,>=3.0.2 in /usr/local/lib/python3.7/dist-packages (from requests->kaggle) (3.0.4)\n"
          ]
        }
      ],
      "source": [
        "!pip install kaggle"
      ]
    },
    {
      "cell_type": "code",
      "source": [
        "from google.colab import files\n",
        "files.upload()"
      ],
      "metadata": {
        "colab": {
          "resources": {
            "http://localhost:8080/nbextensions/google.colab/files.js": {
              "data": "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",
              "ok": true,
              "headers": [
                [
                  "content-type",
                  "application/javascript"
                ]
              ],
              "status": 200,
              "status_text": ""
            }
          },
          "base_uri": "https://localhost:8080/",
          "height": 90
        },
        "id": "DieVQOStlzvJ",
        "outputId": "f1aac41f-a9a8-48c6-8bcd-dad4c77bffe9"
      },
      "execution_count": 4,
      "outputs": [
        {
          "output_type": "display_data",
          "data": {
            "text/plain": [
              "<IPython.core.display.HTML object>"
            ],
            "text/html": [
              "\n",
              "     <input type=\"file\" id=\"files-16226dc3-8e95-4061-aa81-35a2e506291d\" name=\"files[]\" multiple disabled\n",
              "        style=\"border:none\" />\n",
              "     <output id=\"result-16226dc3-8e95-4061-aa81-35a2e506291d\">\n",
              "      Upload widget is only available when the cell has been executed in the\n",
              "      current browser session. Please rerun this cell to enable.\n",
              "      </output>\n",
              "      <script src=\"/nbextensions/google.colab/files.js\"></script> "
            ]
          },
          "metadata": {}
        },
        {
          "output_type": "stream",
          "name": "stdout",
          "text": [
            "Saving kaggle.json to kaggle.json\n"
          ]
        },
        {
          "output_type": "execute_result",
          "data": {
            "text/plain": [
              "{'kaggle.json': b'{\"username\":\"prithvi2004\",\"key\":\"bfc2280847d28c0edde6acb5efe92a90\"}'}"
            ]
          },
          "metadata": {},
          "execution_count": 4
        }
      ]
    },
    {
      "cell_type": "code",
      "source": [
        "!mkdir -p ~/.kaggle\n",
        "!cp kaggle.json ~/.kaggle/\n",
        "!chmod 600 ~/.kaggle/kaggle.json"
      ],
      "metadata": {
        "id": "X_58M9zymS4-"
      },
      "execution_count": 5,
      "outputs": []
    },
    {
      "cell_type": "code",
      "source": [
        "!kaggle datasets download -d shayanfazeli/heartbeat"
      ],
      "metadata": {
        "colab": {
          "base_uri": "https://localhost:8080/"
        },
        "id": "R3AGTl3xmZl_",
        "outputId": "e1dc31db-5e2a-4bad-84e7-b9273e684462"
      },
      "execution_count": 6,
      "outputs": [
        {
          "output_type": "stream",
          "name": "stdout",
          "text": [
            "Downloading heartbeat.zip to /content\n",
            " 90% 89.0M/98.8M [00:00<00:00, 117MB/s]\n",
            "100% 98.8M/98.8M [00:01<00:00, 102MB/s]\n"
          ]
        }
      ]
    },
    {
      "cell_type": "code",
      "source": [
        "!unzip /content/heartbeat.zip -d my_data\n"
      ],
      "metadata": {
        "colab": {
          "base_uri": "https://localhost:8080/"
        },
        "id": "7hwCK5e7mkys",
        "outputId": "be4c42f3-5eee-41f3-80b1-2e34a8795ffc"
      },
      "execution_count": 7,
      "outputs": [
        {
          "output_type": "stream",
          "name": "stdout",
          "text": [
            "Archive:  /content/heartbeat.zip\n",
            "  inflating: my_data/mitbih_test.csv  \n",
            "  inflating: my_data/mitbih_train.csv  \n",
            "  inflating: my_data/ptbdb_abnormal.csv  \n",
            "  inflating: my_data/ptbdb_normal.csv  \n"
          ]
        }
      ]
    },
    {
      "cell_type": "code",
      "source": [
        "!pip install keras.utils.to_categorical\n"
      ],
      "metadata": {
        "colab": {
          "base_uri": "https://localhost:8080/"
        },
        "id": "Pk2yZ-NWXxBx",
        "outputId": "0abf3eda-533a-4e15-ccd6-7a6126a034ea"
      },
      "execution_count": 8,
      "outputs": [
        {
          "output_type": "stream",
          "name": "stdout",
          "text": [
            "Looking in indexes: https://pypi.org/simple, https://us-python.pkg.dev/colab-wheels/public/simple/\n",
            "\u001b[31mERROR: Could not find a version that satisfies the requirement keras.utils.to_categorical (from versions: none)\u001b[0m\n",
            "\u001b[31mERROR: No matching distribution found for keras.utils.to_categorical\u001b[0m\n"
          ]
        }
      ]
    },
    {
      "cell_type": "code",
      "source": [
        "import numpy as np\n",
        "import matplotlib.pyplot as plt\n",
        "import pandas as pd\n",
        "from tensorflow.keras.utils import to_categorical"
      ],
      "metadata": {
        "id": "tTGFqe81nSc6"
      },
      "execution_count": 9,
      "outputs": []
    },
    {
      "cell_type": "code",
      "source": [
        "mitTest = pd.read_csv('/content/my_data/mitbih_test.csv',header = None)\n",
        "mitTrain = pd.read_csv('/content/my_data/mitbih_train.csv',header = None)"
      ],
      "metadata": {
        "id": "pC8IIlBGnx5v"
      },
      "execution_count": 17,
      "outputs": []
    },
    {
      "cell_type": "code",
      "source": [
        "mitTrain[187].value_counts()"
      ],
      "metadata": {
        "colab": {
          "base_uri": "https://localhost:8080/"
        },
        "id": "hq9FM9dBokl3",
        "outputId": "9afa2f32-c130-4a73-c01d-c2fe4141710a"
      },
      "execution_count": 11,
      "outputs": [
        {
          "output_type": "execute_result",
          "data": {
            "text/plain": [
              "0.0    72471\n",
              "4.0     6431\n",
              "2.0     5788\n",
              "1.0     2223\n",
              "3.0      641\n",
              "Name: 187, dtype: int64"
            ]
          },
          "metadata": {},
          "execution_count": 11
        }
      ]
    },
    {
      "cell_type": "code",
      "source": [
        "mitTest = pd.DataFrame(mitTest)\n",
        "mitTrain = pd.DataFrame(mitTrain)\n",
        "classes = ['Normal Beat', 'Supraventricular premature beat', 'Premature ventricular contraction', 'Fusion of ventricular and normal beat',  'Unclassifiable beat']"
      ],
      "metadata": {
        "id": "-aD55WaKpqtQ"
      },
      "execution_count": 26,
      "outputs": []
    },
    {
      "cell_type": "code",
      "source": [
        "y = mitTrain.loc[:, mitTrain.columns == 187]\n",
        "yTest = mitTest.loc[:, mitTest.columns == 187]\n",
        "y = to_categorical(y)\n",
        "yTest = to_categorical(yTest)"
      ],
      "metadata": {
        "id": "_Q5buT_8-k7R"
      },
      "execution_count": 19,
      "outputs": []
    },
    {
      "cell_type": "code",
      "source": [
        "x = mitTrain.drop(mitTrain.columns[187],axis = 1)\n",
        "xTest = mitTest.drop(mitTest.columns[187],axis = 1)"
      ],
      "metadata": {
        "id": "o9s_RNkVQ9S5"
      },
      "execution_count": 20,
      "outputs": []
    },
    {
      "cell_type": "code",
      "source": [
        "print(x.head())\n",
        "print(x.info())"
      ],
      "metadata": {
        "id": "fDL8XOUkXH7Q",
        "colab": {
          "base_uri": "https://localhost:8080/"
        },
        "outputId": "e91a2a40-e30a-422c-9884-5225083b64a4"
      },
      "execution_count": 21,
      "outputs": [
        {
          "output_type": "stream",
          "name": "stdout",
          "text": [
            "        0         1         2         3         4         5         6    \\\n",
            "0  0.977941  0.926471  0.681373  0.245098  0.154412  0.191176  0.151961   \n",
            "1  0.960114  0.863248  0.461538  0.196581  0.094017  0.125356  0.099715   \n",
            "2  1.000000  0.659459  0.186486  0.070270  0.070270  0.059459  0.056757   \n",
            "3  0.925414  0.665746  0.541436  0.276243  0.196133  0.077348  0.071823   \n",
            "4  0.967136  1.000000  0.830986  0.586854  0.356808  0.248826  0.145540   \n",
            "\n",
            "        7         8         9    ...  177  178  179  180  181  182  183  184  \\\n",
            "0  0.085784  0.058824  0.049020  ...  0.0  0.0  0.0  0.0  0.0  0.0  0.0  0.0   \n",
            "1  0.088319  0.074074  0.082621  ...  0.0  0.0  0.0  0.0  0.0  0.0  0.0  0.0   \n",
            "2  0.043243  0.054054  0.045946  ...  0.0  0.0  0.0  0.0  0.0  0.0  0.0  0.0   \n",
            "3  0.060773  0.066298  0.058011  ...  0.0  0.0  0.0  0.0  0.0  0.0  0.0  0.0   \n",
            "4  0.089202  0.117371  0.150235  ...  0.0  0.0  0.0  0.0  0.0  0.0  0.0  0.0   \n",
            "\n",
            "   185  186  \n",
            "0  0.0  0.0  \n",
            "1  0.0  0.0  \n",
            "2  0.0  0.0  \n",
            "3  0.0  0.0  \n",
            "4  0.0  0.0  \n",
            "\n",
            "[5 rows x 187 columns]\n",
            "<class 'pandas.core.frame.DataFrame'>\n",
            "RangeIndex: 87554 entries, 0 to 87553\n",
            "Columns: 187 entries, 0 to 186\n",
            "dtypes: float64(187)\n",
            "memory usage: 124.9 MB\n",
            "None\n"
          ]
        }
      ]
    },
    {
      "cell_type": "code",
      "source": [
        "from keras.models import Sequential\n",
        "from keras.layers import Dense, Activation"
      ],
      "metadata": {
        "id": "mWhuYewD8zaI"
      },
      "execution_count": 22,
      "outputs": []
    },
    {
      "cell_type": "code",
      "source": [
        "model = Sequential()\n",
        "\n",
        "model.add(Dense(50, activation='relu', input_shape=(187,)))\n",
        "model.add(Dense(50, activation='relu'))\n",
        "model.add(Dense(5, activation='softmax'))\n",
        "\n",
        "model.compile(optimizer='adam',\n",
        "              loss='categorical_crossentropy',\n",
        "              metrics=['accuracy'])\n",
        "\n",
        "model.fit(x, y, epochs=100)\n",
        "\n",
        "print(\"Evaluation: \")\n",
        "mse, acc = model.evaluate(xTest, yTest)\n",
        "print('mean_squared_error :', mse)\n",
        "print('accuracy:', acc)"
      ],
      "metadata": {
        "colab": {
          "base_uri": "https://localhost:8080/"
        },
        "id": "mLb8l_ZJ_ysV",
        "outputId": "21824947-486f-4a16-d672-3cbcef2d265f"
      },
      "execution_count": 23,
      "outputs": [
        {
          "output_type": "stream",
          "name": "stdout",
          "text": [
            "Epoch 1/100\n",
            "2737/2737 [==============================] - 7s 2ms/step - loss: 0.2628 - accuracy: 0.9276\n",
            "Epoch 2/100\n",
            "2737/2737 [==============================] - 5s 2ms/step - loss: 0.1587 - accuracy: 0.9564\n",
            "Epoch 3/100\n",
            "2737/2737 [==============================] - 5s 2ms/step - loss: 0.1309 - accuracy: 0.9632\n",
            "Epoch 4/100\n",
            "2737/2737 [==============================] - 5s 2ms/step - loss: 0.1165 - accuracy: 0.9674\n",
            "Epoch 5/100\n",
            "2737/2737 [==============================] - 5s 2ms/step - loss: 0.1076 - accuracy: 0.9695\n",
            "Epoch 6/100\n",
            "2737/2737 [==============================] - 5s 2ms/step - loss: 0.1002 - accuracy: 0.9715\n",
            "Epoch 7/100\n",
            "2737/2737 [==============================] - 5s 2ms/step - loss: 0.0944 - accuracy: 0.9729\n",
            "Epoch 8/100\n",
            "2737/2737 [==============================] - 5s 2ms/step - loss: 0.0903 - accuracy: 0.9741\n",
            "Epoch 9/100\n",
            "2737/2737 [==============================] - 5s 2ms/step - loss: 0.0860 - accuracy: 0.9752\n",
            "Epoch 10/100\n",
            "2737/2737 [==============================] - 5s 2ms/step - loss: 0.0824 - accuracy: 0.9758\n",
            "Epoch 11/100\n",
            "2737/2737 [==============================] - 5s 2ms/step - loss: 0.0795 - accuracy: 0.9769\n",
            "Epoch 12/100\n",
            "2737/2737 [==============================] - 5s 2ms/step - loss: 0.0773 - accuracy: 0.9770\n",
            "Epoch 13/100\n",
            "2737/2737 [==============================] - 7s 3ms/step - loss: 0.0754 - accuracy: 0.9779\n",
            "Epoch 14/100\n",
            "2737/2737 [==============================] - 5s 2ms/step - loss: 0.0722 - accuracy: 0.9783\n",
            "Epoch 15/100\n",
            "2737/2737 [==============================] - 6s 2ms/step - loss: 0.0711 - accuracy: 0.9786\n",
            "Epoch 16/100\n",
            "2737/2737 [==============================] - 5s 2ms/step - loss: 0.0685 - accuracy: 0.9791\n",
            "Epoch 17/100\n",
            "2737/2737 [==============================] - 5s 2ms/step - loss: 0.0665 - accuracy: 0.9804\n",
            "Epoch 18/100\n",
            "2737/2737 [==============================] - 5s 2ms/step - loss: 0.0654 - accuracy: 0.9804\n",
            "Epoch 19/100\n",
            "2737/2737 [==============================] - 5s 2ms/step - loss: 0.0640 - accuracy: 0.9807\n",
            "Epoch 20/100\n",
            "2737/2737 [==============================] - 5s 2ms/step - loss: 0.0628 - accuracy: 0.9810\n",
            "Epoch 21/100\n",
            "2737/2737 [==============================] - 5s 2ms/step - loss: 0.0623 - accuracy: 0.9810\n",
            "Epoch 22/100\n",
            "2737/2737 [==============================] - 5s 2ms/step - loss: 0.0598 - accuracy: 0.9821\n",
            "Epoch 23/100\n",
            "2737/2737 [==============================] - 5s 2ms/step - loss: 0.0591 - accuracy: 0.9820\n",
            "Epoch 24/100\n",
            "2737/2737 [==============================] - 5s 2ms/step - loss: 0.0579 - accuracy: 0.9821\n",
            "Epoch 25/100\n",
            "2737/2737 [==============================] - 5s 2ms/step - loss: 0.0572 - accuracy: 0.9826\n",
            "Epoch 26/100\n",
            "2737/2737 [==============================] - 5s 2ms/step - loss: 0.0546 - accuracy: 0.9830\n",
            "Epoch 27/100\n",
            "2737/2737 [==============================] - 5s 2ms/step - loss: 0.0546 - accuracy: 0.9832\n",
            "Epoch 28/100\n",
            "2737/2737 [==============================] - 5s 2ms/step - loss: 0.0530 - accuracy: 0.9837\n",
            "Epoch 29/100\n",
            "2737/2737 [==============================] - 5s 2ms/step - loss: 0.0525 - accuracy: 0.9834\n",
            "Epoch 30/100\n",
            "2737/2737 [==============================] - 5s 2ms/step - loss: 0.0522 - accuracy: 0.9837\n",
            "Epoch 31/100\n",
            "2737/2737 [==============================] - 5s 2ms/step - loss: 0.0510 - accuracy: 0.9841\n",
            "Epoch 32/100\n",
            "2737/2737 [==============================] - 5s 2ms/step - loss: 0.0486 - accuracy: 0.9846\n",
            "Epoch 33/100\n",
            "2737/2737 [==============================] - 5s 2ms/step - loss: 0.0493 - accuracy: 0.9844\n",
            "Epoch 34/100\n",
            "2737/2737 [==============================] - 5s 2ms/step - loss: 0.0476 - accuracy: 0.9850\n",
            "Epoch 35/100\n",
            "2737/2737 [==============================] - 5s 2ms/step - loss: 0.0476 - accuracy: 0.9852\n",
            "Epoch 36/100\n",
            "2737/2737 [==============================] - 5s 2ms/step - loss: 0.0461 - accuracy: 0.9852\n",
            "Epoch 37/100\n",
            "2737/2737 [==============================] - 5s 2ms/step - loss: 0.0460 - accuracy: 0.9857\n",
            "Epoch 38/100\n",
            "2737/2737 [==============================] - 5s 2ms/step - loss: 0.0442 - accuracy: 0.9857\n",
            "Epoch 39/100\n",
            "2737/2737 [==============================] - 5s 2ms/step - loss: 0.0443 - accuracy: 0.9858\n",
            "Epoch 40/100\n",
            "2737/2737 [==============================] - 5s 2ms/step - loss: 0.0442 - accuracy: 0.9859\n",
            "Epoch 41/100\n",
            "2737/2737 [==============================] - 5s 2ms/step - loss: 0.0429 - accuracy: 0.9861\n",
            "Epoch 42/100\n",
            "2737/2737 [==============================] - 5s 2ms/step - loss: 0.0426 - accuracy: 0.9866\n",
            "Epoch 43/100\n",
            "2737/2737 [==============================] - 5s 2ms/step - loss: 0.0414 - accuracy: 0.9864\n",
            "Epoch 44/100\n",
            "2737/2737 [==============================] - 5s 2ms/step - loss: 0.0421 - accuracy: 0.9864\n",
            "Epoch 45/100\n",
            "2737/2737 [==============================] - 5s 2ms/step - loss: 0.0401 - accuracy: 0.9873\n",
            "Epoch 46/100\n",
            "2737/2737 [==============================] - 5s 2ms/step - loss: 0.0403 - accuracy: 0.9869\n",
            "Epoch 47/100\n",
            "2737/2737 [==============================] - 5s 2ms/step - loss: 0.0393 - accuracy: 0.9877\n",
            "Epoch 48/100\n",
            "2737/2737 [==============================] - 5s 2ms/step - loss: 0.0395 - accuracy: 0.9874\n",
            "Epoch 49/100\n",
            "2737/2737 [==============================] - 5s 2ms/step - loss: 0.0387 - accuracy: 0.9875\n",
            "Epoch 50/100\n",
            "2737/2737 [==============================] - 5s 2ms/step - loss: 0.0378 - accuracy: 0.9876\n",
            "Epoch 51/100\n",
            "2737/2737 [==============================] - 5s 2ms/step - loss: 0.0383 - accuracy: 0.9880\n",
            "Epoch 52/100\n",
            "2737/2737 [==============================] - 5s 2ms/step - loss: 0.0374 - accuracy: 0.9879\n",
            "Epoch 53/100\n",
            "2737/2737 [==============================] - 5s 2ms/step - loss: 0.0365 - accuracy: 0.9884\n",
            "Epoch 54/100\n",
            "2737/2737 [==============================] - 5s 2ms/step - loss: 0.0370 - accuracy: 0.9880\n",
            "Epoch 55/100\n",
            "2737/2737 [==============================] - 5s 2ms/step - loss: 0.0358 - accuracy: 0.9883\n",
            "Epoch 56/100\n",
            "2737/2737 [==============================] - 5s 2ms/step - loss: 0.0358 - accuracy: 0.9884\n",
            "Epoch 57/100\n",
            "2737/2737 [==============================] - 5s 2ms/step - loss: 0.0346 - accuracy: 0.9890\n",
            "Epoch 58/100\n",
            "2737/2737 [==============================] - 5s 2ms/step - loss: 0.0345 - accuracy: 0.9885\n",
            "Epoch 59/100\n",
            "2737/2737 [==============================] - 5s 2ms/step - loss: 0.0337 - accuracy: 0.9891\n",
            "Epoch 60/100\n",
            "2737/2737 [==============================] - 5s 2ms/step - loss: 0.0345 - accuracy: 0.9888\n",
            "Epoch 61/100\n",
            "2737/2737 [==============================] - 5s 2ms/step - loss: 0.0340 - accuracy: 0.9885\n",
            "Epoch 62/100\n",
            "2737/2737 [==============================] - 5s 2ms/step - loss: 0.0328 - accuracy: 0.9891\n",
            "Epoch 63/100\n",
            "2737/2737 [==============================] - 5s 2ms/step - loss: 0.0333 - accuracy: 0.9894\n",
            "Epoch 64/100\n",
            "2737/2737 [==============================] - 5s 2ms/step - loss: 0.0325 - accuracy: 0.9898\n",
            "Epoch 65/100\n",
            "2737/2737 [==============================] - 5s 2ms/step - loss: 0.0319 - accuracy: 0.9895\n",
            "Epoch 66/100\n",
            "2737/2737 [==============================] - 5s 2ms/step - loss: 0.0315 - accuracy: 0.9894\n",
            "Epoch 67/100\n",
            "2737/2737 [==============================] - 5s 2ms/step - loss: 0.0315 - accuracy: 0.9894\n",
            "Epoch 68/100\n",
            "2737/2737 [==============================] - 5s 2ms/step - loss: 0.0319 - accuracy: 0.9893\n",
            "Epoch 69/100\n",
            "2737/2737 [==============================] - 5s 2ms/step - loss: 0.0314 - accuracy: 0.9894\n",
            "Epoch 70/100\n",
            "2737/2737 [==============================] - 5s 2ms/step - loss: 0.0309 - accuracy: 0.9897\n",
            "Epoch 71/100\n",
            "2737/2737 [==============================] - 5s 2ms/step - loss: 0.0298 - accuracy: 0.9903\n",
            "Epoch 72/100\n",
            "2737/2737 [==============================] - 5s 2ms/step - loss: 0.0299 - accuracy: 0.9900\n",
            "Epoch 73/100\n",
            "2737/2737 [==============================] - 5s 2ms/step - loss: 0.0289 - accuracy: 0.9904\n",
            "Epoch 74/100\n",
            "2737/2737 [==============================] - 5s 2ms/step - loss: 0.0289 - accuracy: 0.9905\n",
            "Epoch 75/100\n",
            "2737/2737 [==============================] - 5s 2ms/step - loss: 0.0300 - accuracy: 0.9898\n",
            "Epoch 76/100\n",
            "2737/2737 [==============================] - 5s 2ms/step - loss: 0.0297 - accuracy: 0.9901\n",
            "Epoch 77/100\n",
            "2737/2737 [==============================] - 5s 2ms/step - loss: 0.0281 - accuracy: 0.9907\n",
            "Epoch 78/100\n",
            "2737/2737 [==============================] - 5s 2ms/step - loss: 0.0279 - accuracy: 0.9905\n",
            "Epoch 79/100\n",
            "2737/2737 [==============================] - 5s 2ms/step - loss: 0.0281 - accuracy: 0.9903\n",
            "Epoch 80/100\n",
            "2737/2737 [==============================] - 5s 2ms/step - loss: 0.0279 - accuracy: 0.9907\n",
            "Epoch 81/100\n",
            "2737/2737 [==============================] - 5s 2ms/step - loss: 0.0266 - accuracy: 0.9907\n",
            "Epoch 82/100\n",
            "2737/2737 [==============================] - 5s 2ms/step - loss: 0.0279 - accuracy: 0.9904\n",
            "Epoch 83/100\n",
            "2737/2737 [==============================] - 5s 2ms/step - loss: 0.0270 - accuracy: 0.9913\n",
            "Epoch 84/100\n",
            "2737/2737 [==============================] - 5s 2ms/step - loss: 0.0274 - accuracy: 0.9908\n",
            "Epoch 85/100\n",
            "2737/2737 [==============================] - 5s 2ms/step - loss: 0.0266 - accuracy: 0.9914\n",
            "Epoch 86/100\n",
            "2737/2737 [==============================] - 5s 2ms/step - loss: 0.0263 - accuracy: 0.9908\n",
            "Epoch 87/100\n",
            "2737/2737 [==============================] - 5s 2ms/step - loss: 0.0267 - accuracy: 0.9909\n",
            "Epoch 88/100\n",
            "2737/2737 [==============================] - 5s 2ms/step - loss: 0.0260 - accuracy: 0.9910\n",
            "Epoch 89/100\n",
            "2737/2737 [==============================] - 5s 2ms/step - loss: 0.0250 - accuracy: 0.9914\n",
            "Epoch 90/100\n",
            "2737/2737 [==============================] - 5s 2ms/step - loss: 0.0260 - accuracy: 0.9908\n",
            "Epoch 91/100\n",
            "2737/2737 [==============================] - 5s 2ms/step - loss: 0.0252 - accuracy: 0.9912\n",
            "Epoch 92/100\n",
            "2737/2737 [==============================] - 5s 2ms/step - loss: 0.0246 - accuracy: 0.9916\n",
            "Epoch 93/100\n",
            "2737/2737 [==============================] - 5s 2ms/step - loss: 0.0248 - accuracy: 0.9916\n",
            "Epoch 94/100\n",
            "2737/2737 [==============================] - 5s 2ms/step - loss: 0.0245 - accuracy: 0.9915\n",
            "Epoch 95/100\n",
            "2737/2737 [==============================] - 5s 2ms/step - loss: 0.0250 - accuracy: 0.9916\n",
            "Epoch 96/100\n",
            "2737/2737 [==============================] - 5s 2ms/step - loss: 0.0235 - accuracy: 0.9918\n",
            "Epoch 97/100\n",
            "2737/2737 [==============================] - 5s 2ms/step - loss: 0.0244 - accuracy: 0.9915\n",
            "Epoch 98/100\n",
            "2737/2737 [==============================] - 5s 2ms/step - loss: 0.0227 - accuracy: 0.9926\n",
            "Epoch 99/100\n",
            "2737/2737 [==============================] - 5s 2ms/step - loss: 0.0242 - accuracy: 0.9917\n",
            "Epoch 100/100\n",
            "2737/2737 [==============================] - 5s 2ms/step - loss: 0.0231 - accuracy: 0.9920\n",
            "Evaluation: \n",
            "685/685 [==============================] - 1s 1ms/step - loss: 0.1366 - accuracy: 0.9794\n",
            "mean_squared_error : 0.13659222424030304\n",
            "accuracy: 0.9794445633888245\n"
          ]
        }
      ]
    },
    {
      "cell_type": "code",
      "source": [
        "model.save('Final Model.h5')"
      ],
      "metadata": {
        "id": "21N2g1q1VJxF"
      },
      "execution_count": null,
      "outputs": []
    },
    {
      "cell_type": "code",
      "source": [
        "type(xTest)"
      ],
      "metadata": {
        "colab": {
          "base_uri": "https://localhost:8080/"
        },
        "id": "wocotC1ytdZD",
        "outputId": "260de3fc-5040-45a5-a6b5-107ee35dcf97"
      },
      "execution_count": 35,
      "outputs": [
        {
          "output_type": "execute_result",
          "data": {
            "text/plain": [
              "pandas.core.frame.DataFrame"
            ]
          },
          "metadata": {},
          "execution_count": 35
        }
      ]
    },
    {
      "cell_type": "code",
      "source": [
        "prediction = model.predict(xTest)\n",
        "print(prediction)"
      ],
      "metadata": {
        "colab": {
          "base_uri": "https://localhost:8080/",
          "height": 852
        },
        "id": "-vqmYq_an0-B",
        "outputId": "dbbe157a-86aa-446e-addb-4fcdce25dadc"
      },
      "execution_count": 34,
      "outputs": [
        {
          "output_type": "stream",
          "name": "stdout",
          "text": [
            "WARNING:tensorflow:Model was constructed with shape (None, 187) for input KerasTensor(type_spec=TensorSpec(shape=(None, 187), dtype=tf.float32, name='dense_input'), name='dense_input', description=\"created by layer 'dense_input'\"), but it was called on an input with incompatible shape (None, 1).\n"
          ]
        },
        {
          "output_type": "error",
          "ename": "ValueError",
          "evalue": "ignored",
          "traceback": [
            "\u001b[0;31m---------------------------------------------------------------------------\u001b[0m",
            "\u001b[0;31mValueError\u001b[0m                                Traceback (most recent call last)",
            "\u001b[0;32m<ipython-input-34-a3ac37912ab7>\u001b[0m in \u001b[0;36m<module>\u001b[0;34m()\u001b[0m\n\u001b[0;32m----> 1\u001b[0;31m \u001b[0mprediction\u001b[0m \u001b[0;34m=\u001b[0m \u001b[0mmodel\u001b[0m\u001b[0;34m.\u001b[0m\u001b[0mpredict\u001b[0m\u001b[0;34m(\u001b[0m\u001b[0mxTest\u001b[0m\u001b[0;34m.\u001b[0m\u001b[0miloc\u001b[0m\u001b[0;34m[\u001b[0m\u001b[0;36m0\u001b[0m\u001b[0;34m]\u001b[0m\u001b[0;34m)\u001b[0m\u001b[0;34m\u001b[0m\u001b[0;34m\u001b[0m\u001b[0m\n\u001b[0m\u001b[1;32m      2\u001b[0m \u001b[0mprint\u001b[0m\u001b[0;34m(\u001b[0m\u001b[0mprediction\u001b[0m\u001b[0;34m)\u001b[0m\u001b[0;34m\u001b[0m\u001b[0;34m\u001b[0m\u001b[0m\n",
            "\u001b[0;32m/usr/local/lib/python3.7/dist-packages/keras/utils/traceback_utils.py\u001b[0m in \u001b[0;36merror_handler\u001b[0;34m(*args, **kwargs)\u001b[0m\n\u001b[1;32m     65\u001b[0m     \u001b[0;32mexcept\u001b[0m \u001b[0mException\u001b[0m \u001b[0;32mas\u001b[0m \u001b[0me\u001b[0m\u001b[0;34m:\u001b[0m  \u001b[0;31m# pylint: disable=broad-except\u001b[0m\u001b[0;34m\u001b[0m\u001b[0;34m\u001b[0m\u001b[0m\n\u001b[1;32m     66\u001b[0m       \u001b[0mfiltered_tb\u001b[0m \u001b[0;34m=\u001b[0m \u001b[0m_process_traceback_frames\u001b[0m\u001b[0;34m(\u001b[0m\u001b[0me\u001b[0m\u001b[0;34m.\u001b[0m\u001b[0m__traceback__\u001b[0m\u001b[0;34m)\u001b[0m\u001b[0;34m\u001b[0m\u001b[0;34m\u001b[0m\u001b[0m\n\u001b[0;32m---> 67\u001b[0;31m       \u001b[0;32mraise\u001b[0m \u001b[0me\u001b[0m\u001b[0;34m.\u001b[0m\u001b[0mwith_traceback\u001b[0m\u001b[0;34m(\u001b[0m\u001b[0mfiltered_tb\u001b[0m\u001b[0;34m)\u001b[0m \u001b[0;32mfrom\u001b[0m \u001b[0;32mNone\u001b[0m\u001b[0;34m\u001b[0m\u001b[0;34m\u001b[0m\u001b[0m\n\u001b[0m\u001b[1;32m     68\u001b[0m     \u001b[0;32mfinally\u001b[0m\u001b[0;34m:\u001b[0m\u001b[0;34m\u001b[0m\u001b[0;34m\u001b[0m\u001b[0m\n\u001b[1;32m     69\u001b[0m       \u001b[0;32mdel\u001b[0m \u001b[0mfiltered_tb\u001b[0m\u001b[0;34m\u001b[0m\u001b[0;34m\u001b[0m\u001b[0m\n",
            "\u001b[0;32m/usr/local/lib/python3.7/dist-packages/tensorflow/python/framework/func_graph.py\u001b[0m in \u001b[0;36mautograph_handler\u001b[0;34m(*args, **kwargs)\u001b[0m\n\u001b[1;32m   1145\u001b[0m           \u001b[0;32mexcept\u001b[0m \u001b[0mException\u001b[0m \u001b[0;32mas\u001b[0m \u001b[0me\u001b[0m\u001b[0;34m:\u001b[0m  \u001b[0;31m# pylint:disable=broad-except\u001b[0m\u001b[0;34m\u001b[0m\u001b[0;34m\u001b[0m\u001b[0m\n\u001b[1;32m   1146\u001b[0m             \u001b[0;32mif\u001b[0m \u001b[0mhasattr\u001b[0m\u001b[0;34m(\u001b[0m\u001b[0me\u001b[0m\u001b[0;34m,\u001b[0m \u001b[0;34m\"ag_error_metadata\"\u001b[0m\u001b[0;34m)\u001b[0m\u001b[0;34m:\u001b[0m\u001b[0;34m\u001b[0m\u001b[0;34m\u001b[0m\u001b[0m\n\u001b[0;32m-> 1147\u001b[0;31m               \u001b[0;32mraise\u001b[0m \u001b[0me\u001b[0m\u001b[0;34m.\u001b[0m\u001b[0mag_error_metadata\u001b[0m\u001b[0;34m.\u001b[0m\u001b[0mto_exception\u001b[0m\u001b[0;34m(\u001b[0m\u001b[0me\u001b[0m\u001b[0;34m)\u001b[0m\u001b[0;34m\u001b[0m\u001b[0;34m\u001b[0m\u001b[0m\n\u001b[0m\u001b[1;32m   1148\u001b[0m             \u001b[0;32melse\u001b[0m\u001b[0;34m:\u001b[0m\u001b[0;34m\u001b[0m\u001b[0;34m\u001b[0m\u001b[0m\n\u001b[1;32m   1149\u001b[0m               \u001b[0;32mraise\u001b[0m\u001b[0;34m\u001b[0m\u001b[0;34m\u001b[0m\u001b[0m\n",
            "\u001b[0;31mValueError\u001b[0m: in user code:\n\n    File \"/usr/local/lib/python3.7/dist-packages/keras/engine/training.py\", line 1801, in predict_function  *\n        return step_function(self, iterator)\n    File \"/usr/local/lib/python3.7/dist-packages/keras/engine/training.py\", line 1790, in step_function  **\n        outputs = model.distribute_strategy.run(run_step, args=(data,))\n    File \"/usr/local/lib/python3.7/dist-packages/keras/engine/training.py\", line 1783, in run_step  **\n        outputs = model.predict_step(data)\n    File \"/usr/local/lib/python3.7/dist-packages/keras/engine/training.py\", line 1751, in predict_step\n        return self(x, training=False)\n    File \"/usr/local/lib/python3.7/dist-packages/keras/utils/traceback_utils.py\", line 67, in error_handler\n        raise e.with_traceback(filtered_tb) from None\n    File \"/usr/local/lib/python3.7/dist-packages/keras/engine/input_spec.py\", line 249, in assert_input_compatibility\n        f'Input {input_index} of layer \"{layer_name}\" is '\n\n    ValueError: Exception encountered when calling layer \"sequential\" (type Sequential).\n    \n    Input 0 of layer \"dense\" is incompatible with the layer: expected axis -1 of input shape to have value 187, but received input with shape (None, 1)\n    \n    Call arguments received:\n      • inputs=tf.Tensor(shape=(None, 1), dtype=float32)\n      • training=False\n      • mask=None\n"
          ]
        }
      ]
    },
    {
      "cell_type": "code",
      "source": [
        "predict_class = prediction.argmax(axis = -1)\n",
        "print(predict_class)"
      ],
      "metadata": {
        "colab": {
          "base_uri": "https://localhost:8080/"
        },
        "id": "QwzItdsFolqF",
        "outputId": "5c3af472-8f88-4fd0-df5b-e086180fb27a"
      },
      "execution_count": 29,
      "outputs": [
        {
          "output_type": "stream",
          "name": "stdout",
          "text": [
            "[0 0 0 ... 4 4 4]\n"
          ]
        }
      ]
    },
    {
      "cell_type": "code",
      "source": [
        "nr = int(predict_class[0])"
      ],
      "metadata": {
        "id": "YpmORozIstL7"
      },
      "execution_count": 30,
      "outputs": []
    },
    {
      "cell_type": "code",
      "source": [
        "print(classes[nr])"
      ],
      "metadata": {
        "colab": {
          "base_uri": "https://localhost:8080/"
        },
        "id": "3sEM6TNBtCzW",
        "outputId": "6883268d-7336-49cf-e72e-ba66d21840ea"
      },
      "execution_count": 31,
      "outputs": [
        {
          "output_type": "stream",
          "name": "stdout",
          "text": [
            "Normal Beat\n"
          ]
        }
      ]
    },
    {
      "cell_type": "code",
      "source": [
        ""
      ],
      "metadata": {
        "id": "h2344-fQtJFV"
      },
      "execution_count": null,
      "outputs": []
    }
  ]
}